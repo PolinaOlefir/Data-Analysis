{
 "cells": [
  {
   "cell_type": "markdown",
   "id": "6918e18a-c248-4929-b552-7aee2057c0eb",
   "metadata": {
    "jupyter": {
     "outputs_hidden": false,
     "source_hidden": false
    }
   },
   "source": [
    "## Dataset Summary\n",
    "\n",
    "The `insurance.csv` dataset. Packed with information on health insurance customers, this dataset is your key to unlocking patterns in healthcare costs.\n",
    "\n",
    "## insurance.csv\n",
    "| Column    | Data Type | Description                                                      |\n",
    "|-----------|-----------|------------------------------------------------------------------|\n",
    "| `age`       | int       | Age of the primary beneficiary.                                  |\n",
    "| `sex`       | object    | Gender of the insurance contractor (male or female).             |\n",
    "| `bmi`       | float     | Body mass index, a key indicator of body fat based on height and weight. |\n",
    "| `children`  | int       | Number of dependents covered by the insurance plan.              |\n",
    "| `smoker`    | object    | Indicates whether the beneficiary smokes (yes or no).            |\n",
    "| `region`    | object    | The beneficiary's residential area in the US, divided into four regions. |\n",
    "| `charges`   | float     | Individual medical costs billed by health insurance.             |"
   ]
  },
  {
   "cell_type": "code",
   "execution_count": 183,
   "id": "81a07c66-a3d4-4fdd-9c3c-7b3a19b80d62",
   "metadata": {
    "chartConfig": {
     "bar": {
      "hasRoundedCorners": true,
      "stacked": false
     },
     "type": "bar",
     "version": "v1"
    },
    "executionCancelledAt": null,
    "executionTime": 26,
    "lastExecutedAt": 1711982961744,
    "lastScheduledRunId": null,
    "lastSuccessfullyExecutedCode": "# Re-run this cell\n# Import required libraries\nimport pandas as pd\nimport numpy as np\nfrom sklearn.preprocessing import StandardScaler\nfrom sklearn.model_selection import cross_val_score\nfrom sklearn.linear_model import LinearRegression\nfrom sklearn.pipeline import Pipeline\n\n\n# Loading the insurance dataset\ninsurance_data_path = 'insurance.csv'\ninsurance = pd.read_csv(insurance_data_path)\ninsurance.head()",
    "outputsMetadata": {
     "0": {
      "height": 198,
      "type": "dataFrame"
     }
    },
    "visualizeDataframe": false
   },
   "outputs": [
    {
     "data": {
      "application/com.datacamp.data-table.v2+json": {
       "table": {
        "data": {
         "age": [
          19,
          18,
          28,
          33,
          32
         ],
         "bmi": [
          27.9,
          33.77,
          33,
          22.705,
          28.88
         ],
         "charges": [
          "16884.924",
          "1725.5523",
          "$4449.462",
          "$21984.47061",
          "$3866.8552"
         ],
         "children": [
          0,
          1,
          3,
          0,
          0
         ],
         "index": [
          0,
          1,
          2,
          3,
          4
         ],
         "region": [
          "southwest",
          "Southeast",
          "southeast",
          "northwest",
          "northwest"
         ],
         "sex": [
          "female",
          "male",
          "male",
          "male",
          "male"
         ],
         "smoker": [
          "yes",
          "no",
          "no",
          "no",
          "no"
         ]
        },
        "schema": {
         "fields": [
          {
           "name": "index",
           "type": "integer"
          },
          {
           "name": "age",
           "type": "number"
          },
          {
           "name": "sex",
           "type": "string"
          },
          {
           "name": "bmi",
           "type": "number"
          },
          {
           "name": "children",
           "type": "number"
          },
          {
           "name": "smoker",
           "type": "string"
          },
          {
           "name": "region",
           "type": "string"
          },
          {
           "name": "charges",
           "type": "string"
          }
         ],
         "pandas_version": "1.4.0",
         "primaryKey": [
          "index"
         ]
        }
       },
       "total_rows": 5,
       "truncation_type": null
      },
      "text/html": [
       "<div>\n",
       "<style scoped>\n",
       "    .dataframe tbody tr th:only-of-type {\n",
       "        vertical-align: middle;\n",
       "    }\n",
       "\n",
       "    .dataframe tbody tr th {\n",
       "        vertical-align: top;\n",
       "    }\n",
       "\n",
       "    .dataframe thead th {\n",
       "        text-align: right;\n",
       "    }\n",
       "</style>\n",
       "<table border=\"1\" class=\"dataframe\">\n",
       "  <thead>\n",
       "    <tr style=\"text-align: right;\">\n",
       "      <th></th>\n",
       "      <th>age</th>\n",
       "      <th>sex</th>\n",
       "      <th>bmi</th>\n",
       "      <th>children</th>\n",
       "      <th>smoker</th>\n",
       "      <th>region</th>\n",
       "      <th>charges</th>\n",
       "    </tr>\n",
       "  </thead>\n",
       "  <tbody>\n",
       "    <tr>\n",
       "      <th>0</th>\n",
       "      <td>19.0</td>\n",
       "      <td>female</td>\n",
       "      <td>27.900</td>\n",
       "      <td>0.0</td>\n",
       "      <td>yes</td>\n",
       "      <td>southwest</td>\n",
       "      <td>16884.924</td>\n",
       "    </tr>\n",
       "    <tr>\n",
       "      <th>1</th>\n",
       "      <td>18.0</td>\n",
       "      <td>male</td>\n",
       "      <td>33.770</td>\n",
       "      <td>1.0</td>\n",
       "      <td>no</td>\n",
       "      <td>Southeast</td>\n",
       "      <td>1725.5523</td>\n",
       "    </tr>\n",
       "    <tr>\n",
       "      <th>2</th>\n",
       "      <td>28.0</td>\n",
       "      <td>male</td>\n",
       "      <td>33.000</td>\n",
       "      <td>3.0</td>\n",
       "      <td>no</td>\n",
       "      <td>southeast</td>\n",
       "      <td>$4449.462</td>\n",
       "    </tr>\n",
       "    <tr>\n",
       "      <th>3</th>\n",
       "      <td>33.0</td>\n",
       "      <td>male</td>\n",
       "      <td>22.705</td>\n",
       "      <td>0.0</td>\n",
       "      <td>no</td>\n",
       "      <td>northwest</td>\n",
       "      <td>$21984.47061</td>\n",
       "    </tr>\n",
       "    <tr>\n",
       "      <th>4</th>\n",
       "      <td>32.0</td>\n",
       "      <td>male</td>\n",
       "      <td>28.880</td>\n",
       "      <td>0.0</td>\n",
       "      <td>no</td>\n",
       "      <td>northwest</td>\n",
       "      <td>$3866.8552</td>\n",
       "    </tr>\n",
       "  </tbody>\n",
       "</table>\n",
       "</div>"
      ],
      "text/plain": [
       "    age     sex     bmi  children smoker     region       charges\n",
       "0  19.0  female  27.900       0.0    yes  southwest     16884.924\n",
       "1  18.0    male  33.770       1.0     no  Southeast     1725.5523\n",
       "2  28.0    male  33.000       3.0     no  southeast     $4449.462\n",
       "3  33.0    male  22.705       0.0     no  northwest  $21984.47061\n",
       "4  32.0    male  28.880       0.0     no  northwest    $3866.8552"
      ]
     },
     "execution_count": 183,
     "metadata": {},
     "output_type": "execute_result"
    }
   ],
   "source": [
    "# Import required libraries\n",
    "import pandas as pd\n",
    "import numpy as np\n",
    "from sklearn.preprocessing import StandardScaler\n",
    "from sklearn.model_selection import cross_val_score\n",
    "from sklearn.linear_model import LinearRegression\n",
    "from sklearn.pipeline import Pipeline\n",
    "\n",
    "\n",
    "# Loading the insurance dataset\n",
    "insurance_data_path = 'insurance.csv'\n",
    "insurance = pd.read_csv(insurance_data_path)\n",
    "insurance.head()"
   ]
  },
  {
   "cell_type": "code",
   "execution_count": 184,
   "id": "245f6b46-778d-4de4-b41a-f5394a3d3cea",
   "metadata": {
    "executionCancelledAt": null,
    "executionTime": 52,
    "lastExecutedAt": 1711982961796,
    "lastScheduledRunId": null,
    "lastSuccessfullyExecutedCode": "insurance.info()",
    "outputsMetadata": {
     "0": {
      "height": 297,
      "type": "stream"
     }
    }
   },
   "outputs": [
    {
     "name": "stdout",
     "output_type": "stream",
     "text": [
      "<class 'pandas.core.frame.DataFrame'>\n",
      "RangeIndex: 1338 entries, 0 to 1337\n",
      "Data columns (total 7 columns):\n",
      " #   Column    Non-Null Count  Dtype  \n",
      "---  ------    --------------  -----  \n",
      " 0   age       1272 non-null   float64\n",
      " 1   sex       1272 non-null   object \n",
      " 2   bmi       1272 non-null   float64\n",
      " 3   children  1272 non-null   float64\n",
      " 4   smoker    1272 non-null   object \n",
      " 5   region    1272 non-null   object \n",
      " 6   charges   1284 non-null   object \n",
      "dtypes: float64(3), object(4)\n",
      "memory usage: 73.3+ KB\n"
     ]
    }
   ],
   "source": [
    "insurance.info()"
   ]
  },
  {
   "cell_type": "code",
   "execution_count": 185,
   "id": "9b4453fc-b848-4473-8d10-b9b4c6d88894",
   "metadata": {
    "executionCancelledAt": null,
    "executionTime": 48,
    "lastExecutedAt": 1711982961844,
    "lastScheduledRunId": null,
    "lastSuccessfullyExecutedCode": "insurance = insurance.dropna()\ninsurance.info()",
    "outputsMetadata": {
     "0": {
      "height": 297,
      "type": "stream"
     }
    }
   },
   "outputs": [
    {
     "name": "stdout",
     "output_type": "stream",
     "text": [
      "<class 'pandas.core.frame.DataFrame'>\n",
      "Int64Index: 1208 entries, 0 to 1337\n",
      "Data columns (total 7 columns):\n",
      " #   Column    Non-Null Count  Dtype  \n",
      "---  ------    --------------  -----  \n",
      " 0   age       1208 non-null   float64\n",
      " 1   sex       1208 non-null   object \n",
      " 2   bmi       1208 non-null   float64\n",
      " 3   children  1208 non-null   float64\n",
      " 4   smoker    1208 non-null   object \n",
      " 5   region    1208 non-null   object \n",
      " 6   charges   1208 non-null   object \n",
      "dtypes: float64(3), object(4)\n",
      "memory usage: 75.5+ KB\n"
     ]
    }
   ],
   "source": [
    "insurance = insurance.dropna()\n",
    "insurance.info()"
   ]
  },
  {
   "cell_type": "code",
   "execution_count": 186,
   "id": "9335cae4-b2fe-4ec8-a514-9d980203965a",
   "metadata": {
    "executionCancelledAt": null,
    "executionTime": 48,
    "lastExecutedAt": 1711982961892,
    "lastScheduledRunId": null,
    "lastSuccessfullyExecutedCode": "insurance['sex'].unique()"
   },
   "outputs": [
    {
     "data": {
      "text/plain": [
       "array(['female', 'male', 'woman', 'F', 'man', 'M'], dtype=object)"
      ]
     },
     "execution_count": 186,
     "metadata": {},
     "output_type": "execute_result"
    }
   ],
   "source": [
    "insurance['sex'].unique()"
   ]
  },
  {
   "cell_type": "code",
   "execution_count": 187,
   "id": "32f0e3f7-b335-4563-a4ff-483183c21385",
   "metadata": {
    "executionCancelledAt": null,
    "executionTime": 52,
    "lastExecutedAt": 1711982961944,
    "lastScheduledRunId": null,
    "lastSuccessfullyExecutedCode": "insurance['sex'] = insurance['sex'].replace({'woman':'female', 'F':'female',\n                                             'M':'male', 'man':'male' })"
   },
   "outputs": [],
   "source": [
    "insurance['sex'] = insurance['sex'].replace({'woman':'female', 'F':'female',\n",
    "                                             'M':'male', 'man':'male' })"
   ]
  },
  {
   "cell_type": "code",
   "execution_count": 188,
   "id": "7af3608d-d796-438b-b48c-a19b8095ab50",
   "metadata": {
    "executionCancelledAt": null,
    "executionTime": 51,
    "lastExecutedAt": 1711982961996,
    "lastScheduledRunId": null,
    "lastSuccessfullyExecutedCode": "insurance['sex'].unique()"
   },
   "outputs": [
    {
     "data": {
      "text/plain": [
       "array(['female', 'male'], dtype=object)"
      ]
     },
     "execution_count": 188,
     "metadata": {},
     "output_type": "execute_result"
    }
   ],
   "source": [
    "insurance['sex'].unique()"
   ]
  },
  {
   "cell_type": "code",
   "execution_count": 189,
   "id": "b92d031f-8822-4957-9f5a-bfd6ed991216",
   "metadata": {
    "executionCancelledAt": null,
    "executionTime": 50,
    "lastExecutedAt": 1711982962046,
    "lastScheduledRunId": null,
    "lastSuccessfullyExecutedCode": "insurance.describe()",
    "outputsMetadata": {
     "0": {
      "height": 273,
      "type": "dataFrame"
     }
    }
   },
   "outputs": [
    {
     "data": {
      "application/com.datacamp.data-table.v2+json": {
       "table": {
        "data": {
         "age": [
          1208,
          35.3559602649,
          22.0612414366,
          -64,
          24.75,
          38,
          51,
          64
         ],
         "bmi": [
          1208,
          30.5749710265,
          6.1175622527,
          15.96,
          26.195,
          30.23,
          34.58,
          53.13
         ],
         "children": [
          1208,
          0.9428807947,
          1.3118094585,
          -4,
          0,
          1,
          2,
          5
         ],
         "index": [
          "count",
          "mean",
          "std",
          "min",
          "25%",
          "50%",
          "75%",
          "max"
         ]
        },
        "schema": {
         "fields": [
          {
           "name": "index",
           "type": "string"
          },
          {
           "name": "age",
           "type": "number"
          },
          {
           "name": "bmi",
           "type": "number"
          },
          {
           "name": "children",
           "type": "number"
          }
         ],
         "pandas_version": "1.4.0",
         "primaryKey": [
          "index"
         ]
        }
       },
       "total_rows": 8,
       "truncation_type": null
      },
      "text/html": [
       "<div>\n",
       "<style scoped>\n",
       "    .dataframe tbody tr th:only-of-type {\n",
       "        vertical-align: middle;\n",
       "    }\n",
       "\n",
       "    .dataframe tbody tr th {\n",
       "        vertical-align: top;\n",
       "    }\n",
       "\n",
       "    .dataframe thead th {\n",
       "        text-align: right;\n",
       "    }\n",
       "</style>\n",
       "<table border=\"1\" class=\"dataframe\">\n",
       "  <thead>\n",
       "    <tr style=\"text-align: right;\">\n",
       "      <th></th>\n",
       "      <th>age</th>\n",
       "      <th>bmi</th>\n",
       "      <th>children</th>\n",
       "    </tr>\n",
       "  </thead>\n",
       "  <tbody>\n",
       "    <tr>\n",
       "      <th>count</th>\n",
       "      <td>1208.000000</td>\n",
       "      <td>1208.000000</td>\n",
       "      <td>1208.000000</td>\n",
       "    </tr>\n",
       "    <tr>\n",
       "      <th>mean</th>\n",
       "      <td>35.355960</td>\n",
       "      <td>30.574971</td>\n",
       "      <td>0.942881</td>\n",
       "    </tr>\n",
       "    <tr>\n",
       "      <th>std</th>\n",
       "      <td>22.061241</td>\n",
       "      <td>6.117562</td>\n",
       "      <td>1.311809</td>\n",
       "    </tr>\n",
       "    <tr>\n",
       "      <th>min</th>\n",
       "      <td>-64.000000</td>\n",
       "      <td>15.960000</td>\n",
       "      <td>-4.000000</td>\n",
       "    </tr>\n",
       "    <tr>\n",
       "      <th>25%</th>\n",
       "      <td>24.750000</td>\n",
       "      <td>26.195000</td>\n",
       "      <td>0.000000</td>\n",
       "    </tr>\n",
       "    <tr>\n",
       "      <th>50%</th>\n",
       "      <td>38.000000</td>\n",
       "      <td>30.230000</td>\n",
       "      <td>1.000000</td>\n",
       "    </tr>\n",
       "    <tr>\n",
       "      <th>75%</th>\n",
       "      <td>51.000000</td>\n",
       "      <td>34.580000</td>\n",
       "      <td>2.000000</td>\n",
       "    </tr>\n",
       "    <tr>\n",
       "      <th>max</th>\n",
       "      <td>64.000000</td>\n",
       "      <td>53.130000</td>\n",
       "      <td>5.000000</td>\n",
       "    </tr>\n",
       "  </tbody>\n",
       "</table>\n",
       "</div>"
      ],
      "text/plain": [
       "               age          bmi     children\n",
       "count  1208.000000  1208.000000  1208.000000\n",
       "mean     35.355960    30.574971     0.942881\n",
       "std      22.061241     6.117562     1.311809\n",
       "min     -64.000000    15.960000    -4.000000\n",
       "25%      24.750000    26.195000     0.000000\n",
       "50%      38.000000    30.230000     1.000000\n",
       "75%      51.000000    34.580000     2.000000\n",
       "max      64.000000    53.130000     5.000000"
      ]
     },
     "execution_count": 189,
     "metadata": {},
     "output_type": "execute_result"
    }
   ],
   "source": [
    "insurance.describe()"
   ]
  },
  {
   "cell_type": "code",
   "execution_count": 190,
   "id": "6a589a47-ee77-4d72-b7f8-8d22e58e7657",
   "metadata": {
    "executionCancelledAt": null,
    "executionTime": 51,
    "lastExecutedAt": 1711982962097,
    "lastScheduledRunId": null,
    "lastSuccessfullyExecutedCode": "insurance = insurance[insurance['age'] > 0]\ninsurance.describe()",
    "outputsMetadata": {
     "0": {
      "height": 273,
      "type": "dataFrame"
     }
    }
   },
   "outputs": [
    {
     "data": {
      "application/com.datacamp.data-table.v2+json": {
       "table": {
        "data": {
         "age": [
          1149,
          39.2045256745,
          14.1632141321,
          18,
          26,
          39,
          51,
          64
         ],
         "bmi": [
          1149,
          30.5926196693,
          6.1240126143,
          15.96,
          26.2,
          30.3,
          34.7,
          53.13
         ],
         "children": [
          1149,
          0.9477806789,
          1.3142434797,
          -4,
          0,
          1,
          2,
          5
         ],
         "index": [
          "count",
          "mean",
          "std",
          "min",
          "25%",
          "50%",
          "75%",
          "max"
         ]
        },
        "schema": {
         "fields": [
          {
           "name": "index",
           "type": "string"
          },
          {
           "name": "age",
           "type": "number"
          },
          {
           "name": "bmi",
           "type": "number"
          },
          {
           "name": "children",
           "type": "number"
          }
         ],
         "pandas_version": "1.4.0",
         "primaryKey": [
          "index"
         ]
        }
       },
       "total_rows": 8,
       "truncation_type": null
      },
      "text/html": [
       "<div>\n",
       "<style scoped>\n",
       "    .dataframe tbody tr th:only-of-type {\n",
       "        vertical-align: middle;\n",
       "    }\n",
       "\n",
       "    .dataframe tbody tr th {\n",
       "        vertical-align: top;\n",
       "    }\n",
       "\n",
       "    .dataframe thead th {\n",
       "        text-align: right;\n",
       "    }\n",
       "</style>\n",
       "<table border=\"1\" class=\"dataframe\">\n",
       "  <thead>\n",
       "    <tr style=\"text-align: right;\">\n",
       "      <th></th>\n",
       "      <th>age</th>\n",
       "      <th>bmi</th>\n",
       "      <th>children</th>\n",
       "    </tr>\n",
       "  </thead>\n",
       "  <tbody>\n",
       "    <tr>\n",
       "      <th>count</th>\n",
       "      <td>1149.000000</td>\n",
       "      <td>1149.000000</td>\n",
       "      <td>1149.000000</td>\n",
       "    </tr>\n",
       "    <tr>\n",
       "      <th>mean</th>\n",
       "      <td>39.204526</td>\n",
       "      <td>30.592620</td>\n",
       "      <td>0.947781</td>\n",
       "    </tr>\n",
       "    <tr>\n",
       "      <th>std</th>\n",
       "      <td>14.163214</td>\n",
       "      <td>6.124013</td>\n",
       "      <td>1.314243</td>\n",
       "    </tr>\n",
       "    <tr>\n",
       "      <th>min</th>\n",
       "      <td>18.000000</td>\n",
       "      <td>15.960000</td>\n",
       "      <td>-4.000000</td>\n",
       "    </tr>\n",
       "    <tr>\n",
       "      <th>25%</th>\n",
       "      <td>26.000000</td>\n",
       "      <td>26.200000</td>\n",
       "      <td>0.000000</td>\n",
       "    </tr>\n",
       "    <tr>\n",
       "      <th>50%</th>\n",
       "      <td>39.000000</td>\n",
       "      <td>30.300000</td>\n",
       "      <td>1.000000</td>\n",
       "    </tr>\n",
       "    <tr>\n",
       "      <th>75%</th>\n",
       "      <td>51.000000</td>\n",
       "      <td>34.700000</td>\n",
       "      <td>2.000000</td>\n",
       "    </tr>\n",
       "    <tr>\n",
       "      <th>max</th>\n",
       "      <td>64.000000</td>\n",
       "      <td>53.130000</td>\n",
       "      <td>5.000000</td>\n",
       "    </tr>\n",
       "  </tbody>\n",
       "</table>\n",
       "</div>"
      ],
      "text/plain": [
       "               age          bmi     children\n",
       "count  1149.000000  1149.000000  1149.000000\n",
       "mean     39.204526    30.592620     0.947781\n",
       "std      14.163214     6.124013     1.314243\n",
       "min      18.000000    15.960000    -4.000000\n",
       "25%      26.000000    26.200000     0.000000\n",
       "50%      39.000000    30.300000     1.000000\n",
       "75%      51.000000    34.700000     2.000000\n",
       "max      64.000000    53.130000     5.000000"
      ]
     },
     "execution_count": 190,
     "metadata": {},
     "output_type": "execute_result"
    }
   ],
   "source": [
    "insurance = insurance[insurance['age'] > 0]\n",
    "insurance.describe()"
   ]
  },
  {
   "cell_type": "code",
   "execution_count": 191,
   "id": "224b6b52-0bf8-4ec6-b30f-d8c191dc94d3",
   "metadata": {
    "executionCancelledAt": null,
    "executionTime": 51,
    "lastExecutedAt": 1711982962148,
    "lastScheduledRunId": null,
    "lastSuccessfullyExecutedCode": "insurance.loc[insurance['children'] < 0,\"children\"] = 0"
   },
   "outputs": [],
   "source": [
    "insurance.loc[insurance['children'] < 0,\"children\"] = 0"
   ]
  },
  {
   "cell_type": "code",
   "execution_count": 192,
   "id": "b0ea1940-e898-406d-b88e-b3a762caa408",
   "metadata": {
    "executionCancelledAt": null,
    "executionTime": 48,
    "lastExecutedAt": 1711982962196,
    "lastScheduledRunId": null,
    "lastSuccessfullyExecutedCode": "insurance['region'] = insurance['region'].str.lower()"
   },
   "outputs": [],
   "source": [
    "insurance['region'] = insurance['region'].str.lower()"
   ]
  },
  {
   "cell_type": "code",
   "execution_count": 193,
   "id": "2a7c99b7-aeb5-4152-97ed-3a0f40bb0738",
   "metadata": {
    "executionCancelledAt": null,
    "executionTime": 56,
    "lastExecutedAt": 1711982962252,
    "lastScheduledRunId": null,
    "lastSuccessfullyExecutedCode": "insurance['charges'] = insurance['charges'].str.replace('$', '').astype(float)"
   },
   "outputs": [],
   "source": [
    "insurance['charges'] = insurance['charges'].str.replace('$', '').astype(float)"
   ]
  },
  {
   "cell_type": "code",
   "execution_count": 194,
   "id": "262d5893-39d3-42f0-a768-e1ea1e112118",
   "metadata": {
    "executionCancelledAt": null,
    "executionTime": 47,
    "lastExecutedAt": 1711982962300,
    "lastScheduledRunId": null,
    "lastSuccessfullyExecutedCode": "insurance.head()",
    "outputsMetadata": {
     "0": {
      "height": 198,
      "type": "dataFrame"
     }
    }
   },
   "outputs": [
    {
     "data": {
      "application/com.datacamp.data-table.v2+json": {
       "table": {
        "data": {
         "age": [
          19,
          18,
          28,
          33,
          32
         ],
         "bmi": [
          27.9,
          33.77,
          33,
          22.705,
          28.88
         ],
         "charges": [
          16884.924,
          1725.5523,
          4449.462,
          21984.47061,
          3866.8552
         ],
         "children": [
          0,
          1,
          3,
          0,
          0
         ],
         "index": [
          0,
          1,
          2,
          3,
          4
         ],
         "region": [
          "southwest",
          "southeast",
          "southeast",
          "northwest",
          "northwest"
         ],
         "sex": [
          "female",
          "male",
          "male",
          "male",
          "male"
         ],
         "smoker": [
          "yes",
          "no",
          "no",
          "no",
          "no"
         ]
        },
        "schema": {
         "fields": [
          {
           "name": "index",
           "type": "integer"
          },
          {
           "name": "age",
           "type": "number"
          },
          {
           "name": "sex",
           "type": "string"
          },
          {
           "name": "bmi",
           "type": "number"
          },
          {
           "name": "children",
           "type": "number"
          },
          {
           "name": "smoker",
           "type": "string"
          },
          {
           "name": "region",
           "type": "string"
          },
          {
           "name": "charges",
           "type": "number"
          }
         ],
         "pandas_version": "1.4.0",
         "primaryKey": [
          "index"
         ]
        }
       },
       "total_rows": 5,
       "truncation_type": null
      },
      "text/html": [
       "<div>\n",
       "<style scoped>\n",
       "    .dataframe tbody tr th:only-of-type {\n",
       "        vertical-align: middle;\n",
       "    }\n",
       "\n",
       "    .dataframe tbody tr th {\n",
       "        vertical-align: top;\n",
       "    }\n",
       "\n",
       "    .dataframe thead th {\n",
       "        text-align: right;\n",
       "    }\n",
       "</style>\n",
       "<table border=\"1\" class=\"dataframe\">\n",
       "  <thead>\n",
       "    <tr style=\"text-align: right;\">\n",
       "      <th></th>\n",
       "      <th>age</th>\n",
       "      <th>sex</th>\n",
       "      <th>bmi</th>\n",
       "      <th>children</th>\n",
       "      <th>smoker</th>\n",
       "      <th>region</th>\n",
       "      <th>charges</th>\n",
       "    </tr>\n",
       "  </thead>\n",
       "  <tbody>\n",
       "    <tr>\n",
       "      <th>0</th>\n",
       "      <td>19.0</td>\n",
       "      <td>female</td>\n",
       "      <td>27.900</td>\n",
       "      <td>0.0</td>\n",
       "      <td>yes</td>\n",
       "      <td>southwest</td>\n",
       "      <td>16884.92400</td>\n",
       "    </tr>\n",
       "    <tr>\n",
       "      <th>1</th>\n",
       "      <td>18.0</td>\n",
       "      <td>male</td>\n",
       "      <td>33.770</td>\n",
       "      <td>1.0</td>\n",
       "      <td>no</td>\n",
       "      <td>southeast</td>\n",
       "      <td>1725.55230</td>\n",
       "    </tr>\n",
       "    <tr>\n",
       "      <th>2</th>\n",
       "      <td>28.0</td>\n",
       "      <td>male</td>\n",
       "      <td>33.000</td>\n",
       "      <td>3.0</td>\n",
       "      <td>no</td>\n",
       "      <td>southeast</td>\n",
       "      <td>4449.46200</td>\n",
       "    </tr>\n",
       "    <tr>\n",
       "      <th>3</th>\n",
       "      <td>33.0</td>\n",
       "      <td>male</td>\n",
       "      <td>22.705</td>\n",
       "      <td>0.0</td>\n",
       "      <td>no</td>\n",
       "      <td>northwest</td>\n",
       "      <td>21984.47061</td>\n",
       "    </tr>\n",
       "    <tr>\n",
       "      <th>4</th>\n",
       "      <td>32.0</td>\n",
       "      <td>male</td>\n",
       "      <td>28.880</td>\n",
       "      <td>0.0</td>\n",
       "      <td>no</td>\n",
       "      <td>northwest</td>\n",
       "      <td>3866.85520</td>\n",
       "    </tr>\n",
       "  </tbody>\n",
       "</table>\n",
       "</div>"
      ],
      "text/plain": [
       "    age     sex     bmi  children smoker     region      charges\n",
       "0  19.0  female  27.900       0.0    yes  southwest  16884.92400\n",
       "1  18.0    male  33.770       1.0     no  southeast   1725.55230\n",
       "2  28.0    male  33.000       3.0     no  southeast   4449.46200\n",
       "3  33.0    male  22.705       0.0     no  northwest  21984.47061\n",
       "4  32.0    male  28.880       0.0     no  northwest   3866.85520"
      ]
     },
     "execution_count": 194,
     "metadata": {},
     "output_type": "execute_result"
    }
   ],
   "source": [
    "insurance.head()"
   ]
  },
  {
   "cell_type": "code",
   "execution_count": 195,
   "id": "934743e6-2eca-4ffa-b8ed-ac9d7b11fb3c",
   "metadata": {
    "executionCancelledAt": null,
    "executionTime": 52,
    "lastExecutedAt": 1711982962352,
    "lastScheduledRunId": null,
    "lastSuccessfullyExecutedCode": "insurance.info()",
    "outputsMetadata": {
     "0": {
      "height": 297,
      "type": "stream"
     }
    }
   },
   "outputs": [
    {
     "name": "stdout",
     "output_type": "stream",
     "text": [
      "<class 'pandas.core.frame.DataFrame'>\n",
      "Int64Index: 1149 entries, 0 to 1337\n",
      "Data columns (total 7 columns):\n",
      " #   Column    Non-Null Count  Dtype  \n",
      "---  ------    --------------  -----  \n",
      " 0   age       1149 non-null   float64\n",
      " 1   sex       1149 non-null   object \n",
      " 2   bmi       1149 non-null   float64\n",
      " 3   children  1149 non-null   float64\n",
      " 4   smoker    1149 non-null   object \n",
      " 5   region    1149 non-null   object \n",
      " 6   charges   1149 non-null   float64\n",
      "dtypes: float64(4), object(3)\n",
      "memory usage: 71.8+ KB\n"
     ]
    }
   ],
   "source": [
    "insurance.info()"
   ]
  },
  {
   "cell_type": "code",
   "execution_count": 196,
   "id": "c47c57b5-3ce9-440b-a2fd-7eb87dc6ed52",
   "metadata": {
    "executionCancelledAt": null,
    "executionTime": 52,
    "lastExecutedAt": 1711982962404,
    "lastScheduledRunId": null,
    "lastSuccessfullyExecutedCode": "def create_and_train_model(insurance):\n    X = insurance.drop('charges', axis=1)\n    Y = insurance['charges']\n    \n    numerical_features = ['age', 'bmi', 'children']\n    categorical_features = ['sex','smoker','region']\n\n    X_categorical = pd.get_dummies(X[categorical_features], drop_first=True)\n    X_processed = pd.concat([X[numerical_features], X_categorical], axis=1)\n    \n    scaler = StandardScaler()\n    lin_reg = LinearRegression()\n    X_train_scaled = scaler.fit_transform(X_processed)\n    #pipeline\n    insurance_model = Pipeline([('scaler', scaler), ('classifier', lin_reg)])\n    #fitting the model\n    insurance_model.fit(X_train_scaled, Y)\n    #evaluation \n    mse_scores = -cross_val_score(insurance_model, X_train_scaled, Y, cv=5, scoring='neg_mean_squared_error')\n    r2_scores = cross_val_score(insurance_model, X_train_scaled, Y, cv=5, scoring='r2')\n    mean_mse = np.mean(mse_scores)\n    mean_r2 = np.mean(r2_scores)\n\n    return insurance_model, mean_mse, mean_r2"
   },
   "outputs": [],
   "source": [
    "def create_and_train_model(insurance):\n",
    "    X = insurance.drop('charges', axis=1)\n",
    "    Y = insurance['charges']\n",
    "    \n",
    "    numerical_features = ['age', 'bmi', 'children']\n",
    "    categorical_features = ['sex','smoker','region']\n",
    "\n",
    "    X_categorical = pd.get_dummies(X[categorical_features], drop_first=True)\n",
    "    X_processed = pd.concat([X[numerical_features], X_categorical], axis=1)\n",
    "    \n",
    "    scaler = StandardScaler()\n",
    "    lin_reg = LinearRegression()\n",
    "    X_train_scaled = scaler.fit_transform(X_processed)\n",
    "    #pipeline\n",
    "    insurance_model = Pipeline([('scaler', scaler), ('classifier', lin_reg)])\n",
    "    #fitting the model\n",
    "    insurance_model.fit(X_train_scaled, Y)\n",
    "    #evaluation \n",
    "    mse_scores = -cross_val_score(insurance_model, X_train_scaled, Y, cv=5, scoring='neg_mean_squared_error')\n",
    "    r2_scores = cross_val_score(insurance_model, X_train_scaled, Y, cv=5, scoring='r2')\n",
    "    mean_mse = np.mean(mse_scores)\n",
    "    mean_r2 = np.mean(r2_scores)\n",
    "\n",
    "    return insurance_model, mean_mse, mean_r2"
   ]
  },
  {
   "cell_type": "code",
   "execution_count": 197,
   "id": "e1238ee8-ef36-46a2-860d-182b387291f4",
   "metadata": {
    "executionCancelledAt": null,
    "executionTime": 52,
    "lastExecutedAt": 1711982962456,
    "lastScheduledRunId": null,
    "lastSuccessfullyExecutedCode": "insurance_model, mean_mse, mean_r2 = create_and_train_model(insurance)\n\nprint(\"Mean MSE:\", mean_mse)\nprint(\"Mean R2:\", mean_r2)",
    "outputsMetadata": {
     "0": {
      "height": 57,
      "type": "stream"
     }
    }
   },
   "outputs": [
    {
     "name": "stdout",
     "output_type": "stream",
     "text": [
      "Mean MSE: 37431001.52191915\n",
      "Mean R2: 0.7450511466263761\n"
     ]
    }
   ],
   "source": [
    "insurance_model, mean_mse, mean_r2 = create_and_train_model(insurance)\n",
    "\n",
    "print(\"Mean MSE:\", mean_mse)\n",
    "print(\"Mean R2:\", mean_r2)"
   ]
  },
  {
   "cell_type": "code",
   "execution_count": 198,
   "id": "788549ed-f619-4ef0-8c49-e31deb1f15e6",
   "metadata": {
    "executionCancelledAt": null,
    "executionTime": 53,
    "lastExecutedAt": 1711982962509,
    "lastScheduledRunId": null,
    "lastSuccessfullyExecutedCode": "validation_data = pd.read_csv('validation_dataset.csv')\n\n\n# Preprocess categorical features using one-hot encoding\nvalidation_data_processed = pd.get_dummies(validation_data,columns=['sex', 'smoker', 'region'],drop_first=True)\n\n\n# Make predictions using the trained model\nvalidation_predictions = insurance_model.predict(validation_data_processed)\n\n# Add predicted charges to the validation data\nvalidation_data['predicted_charges'] = validation_predictions\n\n# Adjust predictions to ensure minimum charge is $1000\nvalidation_data.loc[validation_data['predicted_charges'] < 1000, 'predicted_charges'] = 1000\n\n# Display the updated dataframe\nvalidation_data.head()\n\n\n\n\n    \n    ",
    "outputsMetadata": {
     "0": {
      "height": 198,
      "type": "dataFrame"
     }
    }
   },
   "outputs": [
    {
     "data": {
      "application/com.datacamp.data-table.v2+json": {
       "table": {
        "data": {
         "age": [
          18,
          39,
          27,
          71,
          28
         ],
         "bmi": [
          24.09,
          26.41,
          29.15,
          65.5021352956,
          38.06
         ],
         "children": [
          1,
          0,
          0,
          13,
          0
         ],
         "index": [
          0,
          1,
          2,
          3,
          4
         ],
         "predicted_charges": [
          128624.1956431043,
          220740.5374488108,
          181357.5886058476,
          423490.68727023,
          193247.4319890941
         ],
         "region": [
          "southeast",
          "northeast",
          "southeast",
          "southeast",
          "southeast"
         ],
         "sex": [
          "female",
          "male",
          "male",
          "male",
          "male"
         ],
         "smoker": [
          "no",
          "yes",
          "yes",
          "yes",
          "no"
         ]
        },
        "schema": {
         "fields": [
          {
           "name": "index",
           "type": "integer"
          },
          {
           "name": "age",
           "type": "number"
          },
          {
           "name": "sex",
           "type": "string"
          },
          {
           "name": "bmi",
           "type": "number"
          },
          {
           "name": "children",
           "type": "number"
          },
          {
           "name": "smoker",
           "type": "string"
          },
          {
           "name": "region",
           "type": "string"
          },
          {
           "name": "predicted_charges",
           "type": "number"
          }
         ],
         "pandas_version": "1.4.0",
         "primaryKey": [
          "index"
         ]
        }
       },
       "total_rows": 5,
       "truncation_type": null
      },
      "text/html": [
       "<div>\n",
       "<style scoped>\n",
       "    .dataframe tbody tr th:only-of-type {\n",
       "        vertical-align: middle;\n",
       "    }\n",
       "\n",
       "    .dataframe tbody tr th {\n",
       "        vertical-align: top;\n",
       "    }\n",
       "\n",
       "    .dataframe thead th {\n",
       "        text-align: right;\n",
       "    }\n",
       "</style>\n",
       "<table border=\"1\" class=\"dataframe\">\n",
       "  <thead>\n",
       "    <tr style=\"text-align: right;\">\n",
       "      <th></th>\n",
       "      <th>age</th>\n",
       "      <th>sex</th>\n",
       "      <th>bmi</th>\n",
       "      <th>children</th>\n",
       "      <th>smoker</th>\n",
       "      <th>region</th>\n",
       "      <th>predicted_charges</th>\n",
       "    </tr>\n",
       "  </thead>\n",
       "  <tbody>\n",
       "    <tr>\n",
       "      <th>0</th>\n",
       "      <td>18.0</td>\n",
       "      <td>female</td>\n",
       "      <td>24.090000</td>\n",
       "      <td>1.0</td>\n",
       "      <td>no</td>\n",
       "      <td>southeast</td>\n",
       "      <td>128624.195643</td>\n",
       "    </tr>\n",
       "    <tr>\n",
       "      <th>1</th>\n",
       "      <td>39.0</td>\n",
       "      <td>male</td>\n",
       "      <td>26.410000</td>\n",
       "      <td>0.0</td>\n",
       "      <td>yes</td>\n",
       "      <td>northeast</td>\n",
       "      <td>220740.537449</td>\n",
       "    </tr>\n",
       "    <tr>\n",
       "      <th>2</th>\n",
       "      <td>27.0</td>\n",
       "      <td>male</td>\n",
       "      <td>29.150000</td>\n",
       "      <td>0.0</td>\n",
       "      <td>yes</td>\n",
       "      <td>southeast</td>\n",
       "      <td>181357.588606</td>\n",
       "    </tr>\n",
       "    <tr>\n",
       "      <th>3</th>\n",
       "      <td>71.0</td>\n",
       "      <td>male</td>\n",
       "      <td>65.502135</td>\n",
       "      <td>13.0</td>\n",
       "      <td>yes</td>\n",
       "      <td>southeast</td>\n",
       "      <td>423490.687270</td>\n",
       "    </tr>\n",
       "    <tr>\n",
       "      <th>4</th>\n",
       "      <td>28.0</td>\n",
       "      <td>male</td>\n",
       "      <td>38.060000</td>\n",
       "      <td>0.0</td>\n",
       "      <td>no</td>\n",
       "      <td>southeast</td>\n",
       "      <td>193247.431989</td>\n",
       "    </tr>\n",
       "  </tbody>\n",
       "</table>\n",
       "</div>"
      ],
      "text/plain": [
       "    age     sex        bmi  children smoker     region  predicted_charges\n",
       "0  18.0  female  24.090000       1.0     no  southeast      128624.195643\n",
       "1  39.0    male  26.410000       0.0    yes  northeast      220740.537449\n",
       "2  27.0    male  29.150000       0.0    yes  southeast      181357.588606\n",
       "3  71.0    male  65.502135      13.0    yes  southeast      423490.687270\n",
       "4  28.0    male  38.060000       0.0     no  southeast      193247.431989"
      ]
     },
     "execution_count": 198,
     "metadata": {},
     "output_type": "execute_result"
    }
   ],
   "source": [
    "validation_data = pd.read_csv('validation_dataset.csv')\n",
    "\n",
    "# Preprocess categorical features using one-hot encoding\n",
    "validation_data_processed = pd.get_dummies(validation_data,columns=['sex', 'smoker', 'region'],drop_first=True)\n",
    "\n",
    "# Make predictions using the trained model\n",
    "validation_predictions = insurance_model.predict(validation_data_processed)\n",
    "\n",
    "# Add predicted charges to the validation data\n",
    "validation_data['predicted_charges'] = validation_predictions\n",
    "\n",
    "# Adjust predictions to ensure minimum charge is $1000\n",
    "validation_data.loc[validation_data['predicted_charges'] < 1000, 'predicted_charges'] = 1000\n",
    "\n",
    "# Display the updated dataframe\n",
    "validation_data.head()"
   ]
  },
  {
   "cell_type": "code",
   "execution_count": 198,
   "id": "69980adc-40ee-4d06-8195-f4877c1797a0",
   "metadata": {
    "executionCancelledAt": null,
    "executionTime": 47,
    "lastExecutedAt": 1711982962556,
    "lastScheduledRunId": null,
    "lastSuccessfullyExecutedCode": ""
   },
   "outputs": [],
   "source": []
  }
 ],
 "metadata": {
  "colab": {
   "name": "Welcome to DataCamp Workspaces.ipynb",
   "provenance": []
  },
  "kernelspec": {
   "display_name": "Python 3 (ipykernel)",
   "language": "python",
   "name": "python3"
  },
  "language_info": {
   "codemirror_mode": {
    "name": "ipython",
    "version": 3
   },
   "file_extension": ".py",
   "mimetype": "text/x-python",
   "name": "python",
   "nbconvert_exporter": "python",
   "pygments_lexer": "ipython3",
   "version": "3.11.5"
  }
 },
 "nbformat": 4,
 "nbformat_minor": 5
}
